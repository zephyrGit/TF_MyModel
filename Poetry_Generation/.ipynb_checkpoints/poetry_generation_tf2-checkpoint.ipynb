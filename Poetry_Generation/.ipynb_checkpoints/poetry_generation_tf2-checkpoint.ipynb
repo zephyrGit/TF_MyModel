{
 "cells": [
  {
   "cell_type": "markdown",
   "metadata": {},
   "source": [
    "# 古诗生成\n",
    "本项目使用RNN进行古诗生成，使用跟彩票预测相同的思路和网络，TensorFlow2.0实现。"
   ]
  },
  {
   "cell_type": "markdown",
   "metadata": {},
   "source": [
    "## 加载数据集"
   ]
  },
  {
   "cell_type": "code",
   "execution_count": 1,
   "metadata": {},
   "outputs": [],
   "source": [
    "data_dir = './data/newtxt.txt'  # new_poetry\n",
    "text = open(data_dir, 'rb').read().decode(encoding='utf-8')"
   ]
  },
  {
   "cell_type": "markdown",
   "metadata": {},
   "source": [
    "下面函数是用来处理初始数据集poetry.txt的，使用newtxt.txt可以不调用。"
   ]
  },
  {
   "cell_type": "code",
   "execution_count": 2,
   "metadata": {},
   "outputs": [],
   "source": [
    "import os\n",
    "import re\n",
    "pattern = '[a-zA-Z0-9’\"#$%&\\'()*+-./:;<=>@★…【】《》“”‘’[\\\\]^_`{|}~]+'\n",
    "\n",
    "\n",
    "def preprocess_poetry(outdir, datadir):\n",
    "    with open(os.path.join(outdir, 'new_poetry.txt'), 'w') as out_f:\n",
    "        with open(os.path.join(datadir, 'poetry.txt'), 'r') as f:\n",
    "            for line in f:\n",
    "                content = line.strip().rstrip('\\n').split(':')[\n",
    "                    1]  # .rstrip('\\n').\n",
    "                content = content.replace(' ', '')\n",
    "                if '】' in content or '_' in content or '(' in content or '（' in content or '《' in content or '[' in content:\n",
    "                    continue\n",
    "                if len(content) < 20:\n",
    "                    continue\n",
    "                content = re.sub(pattern, '', content)\n",
    "                out_f.write(content + '\\n')"
   ]
  },
  {
   "cell_type": "code",
   "execution_count": 3,
   "metadata": {},
   "outputs": [],
   "source": [
    "preprocess_poetry('./data/', './data/')"
   ]
  },
  {
   "cell_type": "code",
   "execution_count": null,
   "metadata": {},
   "outputs": [],
   "source": []
  },
  {
   "cell_type": "markdown",
   "metadata": {},
   "source": [
    "## 预测网络介绍"
   ]
  },
  {
   "cell_type": "markdown",
   "metadata": {},
   "source": [
    "网络的输入是每一个汉字，总共有1020个字，用one hot编码是一个1020维的稀疏向量。"
   ]
  },
  {
   "cell_type": "markdown",
   "metadata": {},
   "source": [
    "使用one hot稀疏向量在输入层与网络第一层做矩阵乘法时会很没有效率，因为向量里面大部分都是0， 矩阵乘法浪费了大量的计算，最终矩阵运算得出的结果是向量中值为1的列所对应的矩阵中的行向量。\n",
    "<img src=\"assets/lookup_matrix.png\">\n",
    "\n",
    "这看起来很像用索引查表一样，one hot向量中值为1的位置作为下标，去索引参数矩阵中的行向量。"
   ]
  },
  {
   "cell_type": "markdown",
   "metadata": {},
   "source": [
    "为了代替矩阵乘法，我们将参数矩阵当作一个查找表（lookup table）或者叫做嵌入矩阵（embedding matrix），使用每个汉字所对应索引，比如汉字“你”，索引是958，然后在查找表中找第958行。\n",
    "\n",
    "这其实跟替换之前的模型没有什么不同，嵌入矩阵就是参数矩阵，嵌入层仍然是隐层。查找表只是矩阵乘法的一种便捷方式，它会像参数矩阵一样被训练，是要学习的参数。"
   ]
  },
  {
   "cell_type": "markdown",
   "metadata": {},
   "source": [
    "下面就是我们要构建的网络架构，从嵌入层输出的向量进入LSTM层进行时间序列的学习，然后经过softmax预测出下一个汉字。"
   ]
  },
  {
   "cell_type": "markdown",
   "metadata": {},
   "source": [
    "## 编码实现"
   ]
  },
  {
   "cell_type": "markdown",
   "metadata": {},
   "source": [
    "### 实现数据预处理\n",
    "\n",
    "我们需要先准备好汉字和ID之间的转换关系。在这个函数中，创建并返回两个字典：\n",
    "- 汉字到ID的转换字典： `vocab_to_int`\n",
    "- ID到汉字的转换字典： `int_to_vocab`\n"
   ]
  },
  {
   "cell_type": "code",
   "execution_count": 6,
   "metadata": {},
   "outputs": [],
   "source": [
    "import numpy as np\n",
    "from collections import Counter\n",
    "import pickle\n",
    "\n",
    "\n",
    "def create_lookup_tables():\n",
    "\n",
    "    vocab = sorted(set(text))\n",
    "    vocab_to_int = {u: i for i, u in enumerate(vocab)}\n",
    "    int_to_vocab = np.array(vocab)\n",
    "\n",
    "    int_text = np.array([vocab_to_int[word] for word in text if word != '\\n'])\n",
    "\n",
    "    pickle.dump((int_text, vocab_to_int, int_to_vocab),\n",
    "                open('preprocess.p', 'wb'))"
   ]
  },
  {
   "cell_type": "markdown",
   "metadata": {},
   "source": [
    "### 处理所有数据并保存\n",
    "将每期结果按照从第一期开始的顺序保存到文件中。"
   ]
  },
  {
   "cell_type": "code",
   "execution_count": 7,
   "metadata": {},
   "outputs": [],
   "source": [
    "create_lookup_tables()"
   ]
  },
  {
   "cell_type": "code",
   "execution_count": 9,
   "metadata": {},
   "outputs": [],
   "source": [
    "import numpy as np\n",
    "# 读取保存的数据\n",
    "int_text, vocab_to_int, int_to_vocab = pickle.load(\n",
    "    open('preprocess.p', mode='rb'))"
   ]
  },
  {
   "cell_type": "code",
   "execution_count": 10,
   "metadata": {},
   "outputs": [],
   "source": [
    "def get_batches(int_text, batch_size, seq_length):\n",
    "\n",
    "    batchCnt = len(int_text) // (batch_size * seq_length)\n",
    "    int_text_inputs = int_text[:batchCnt * (batch_size * seq_length)]\n",
    "    int_text_targets = int_text[1:batchCnt * (batch_size * seq_length) + 1]\n",
    "\n",
    "    result_list = []\n",
    "    x = np.array(int_text_inputs).reshape(1, batch_size, -1)\n",
    "    y = np.array(int_text_targets).reshape(1, batch_size, -1)\n",
    "\n",
    "    x_new = np.dsplit(x, batchCnt)\n",
    "    y_new = np.dsplit(y, batchCnt)\n",
    "\n",
    "    for ii in range(batchCnt):\n",
    "        x_list = []\n",
    "        x_list.append(x_new[ii][0])\n",
    "        x_list.append(y_new[ii][0])\n",
    "        result_list.append(x_list)\n",
    "\n",
    "    return np.array(result_list)"
   ]
  },
  {
   "cell_type": "markdown",
   "metadata": {},
   "source": [
    "## 训练神经网络\n",
    "### 超参数\n"
   ]
  },
  {
   "cell_type": "code",
   "execution_count": 11,
   "metadata": {},
   "outputs": [],
   "source": [
    "vocab_size = len(int_to_vocab)\n",
    "\n",
    "# 批次大小\n",
    "batch_size = 32  # 64\n",
    "# RNN的大小（隐藏节点的维度）\n",
    "rnn_size = 1000\n",
    "# 嵌入层的维度\n",
    "embed_dim = 256  # 这里做了调整，跟彩票预测的也不同了\n",
    "# 序列的长度\n",
    "seq_length = 15  # 注意这里已经不是1了，在古诗预测里面这个数值可以大一些，比如100也可以的\n",
    "\n",
    "save_dir = './save'"
   ]
  },
  {
   "cell_type": "markdown",
   "metadata": {},
   "source": [
    "### 构建计算图\n",
    "使用实现的神经网络构建计算图。"
   ]
  },
  {
   "cell_type": "code",
   "execution_count": 12,
   "metadata": {},
   "outputs": [],
   "source": [
    "import tensorflow as tf\n",
    "import datetime\n",
    "from tensorflow import keras\n",
    "from tensorflow.python.ops import summary_ops_v2\n",
    "import time\n",
    "\n",
    "MODEL_DIR = \"./poetry_models\"\n",
    "\n",
    "train_batches = get_batches(int_text, batch_size, seq_length)\n",
    "losses = {'train': [], 'test': []}\n",
    "\n",
    "\n",
    "class poetry_network(object):\n",
    "    def __init__(self, batch_size=32):\n",
    "        self.batch_size = batch_size\n",
    "        self.best_loss = 9999\n",
    "\n",
    "        self.model = tf.keras.Sequential([\n",
    "            tf.keras.layers.Embedding(vocab_size,\n",
    "                                      embed_dim,\n",
    "                                      batch_input_shape=[batch_size, None]),\n",
    "            tf.keras.layers.LSTM(rnn_size,\n",
    "                                 return_sequences=True,\n",
    "                                 stateful=True,\n",
    "                                 recurrent_initializer='glorot_uniform'),\n",
    "            tf.keras.layers.Dense(vocab_size)\n",
    "        ])\n",
    "        self.model.summary()\n",
    "\n",
    "        self.optimizer = tf.keras.optimizers.Adam()\n",
    "        self.ComputeLoss = tf.keras.losses.SparseCategoricalCrossentropy(\n",
    "            from_logits=True)\n",
    "\n",
    "        if tf.io.gfile.exists(MODEL_DIR):\n",
    "            #             print('Removing existing model dir: {}'.format(MODEL_DIR))\n",
    "            #             tf.io.gfile.rmtree(MODEL_DIR)\n",
    "            pass\n",
    "        else:\n",
    "            tf.io.gfile.makedirs(MODEL_DIR)\n",
    "\n",
    "        train_dir = os.path.join(MODEL_DIR, 'summaries', 'train')\n",
    "\n",
    "        self.train_summary_writer = summary_ops_v2.create_file_writer(\n",
    "            train_dir, flush_millis=10000)\n",
    "\n",
    "        checkpoint_dir = os.path.join(MODEL_DIR, 'checkpoints')\n",
    "        self.checkpoint_prefix = os.path.join(checkpoint_dir, 'ckpt')\n",
    "        self.checkpoint = tf.train.Checkpoint(model=self.model,\n",
    "                                              optimizer=self.optimizer)\n",
    "\n",
    "        # Restore variables on creation if a checkpoint exists.\n",
    "        self.checkpoint.restore(tf.train.latest_checkpoint(checkpoint_dir))\n",
    "\n",
    "    @tf.function\n",
    "    def train_step(self, x, y):\n",
    "        # Record the operations used to compute the loss, so that the gradient\n",
    "        # of the loss with respect to the variables can be computed.\n",
    "\n",
    "        with tf.GradientTape() as tape:\n",
    "            logits = self.model(x, training=True)\n",
    "\n",
    "            loss = self.ComputeLoss(y, logits)\n",
    "\n",
    "        grads = tape.gradient(loss, self.model.trainable_variables)\n",
    "        self.optimizer.apply_gradients(\n",
    "            zip(grads, self.model.trainable_variables))\n",
    "        return loss, logits\n",
    "\n",
    "    def training(self, epochs=1, log_freq=50):\n",
    "\n",
    "        batchCnt = len(int_text) // (batch_size * seq_length)\n",
    "        print(\"batchCnt : \", batchCnt)\n",
    "        for i in range(epochs):\n",
    "            train_start = time.time()\n",
    "            with self.train_summary_writer.as_default():\n",
    "                start = time.time()\n",
    "                # Metrics are stateful. They accumulate values and return a cumulative\n",
    "                # result when you call .result(). Clear accumulated values with .reset_states()\n",
    "                avg_loss = tf.keras.metrics.Mean('loss', dtype=tf.float32)\n",
    "\n",
    "                # Datasets can be iterated over like any other Python iterable.\n",
    "                for batch_i, (x, y) in enumerate(train_batches):\n",
    "                    loss, logits = self.train_step(x, y)\n",
    "                    avg_loss(loss)\n",
    "                    losses['train'].append(loss)\n",
    "\n",
    "                    if tf.equal(self.optimizer.iterations % log_freq, 0):\n",
    "                        summary_ops_v2.scalar('loss',\n",
    "                                              avg_loss.result(),\n",
    "                                              step=self.optimizer.iterations)\n",
    "\n",
    "                        rate = log_freq / (time.time() - start)\n",
    "                        print('Step #{}\\tLoss: {:0.6f} ({} steps/sec)'.format(\n",
    "                            self.optimizer.iterations.numpy(), loss, rate))\n",
    "\n",
    "                        avg_loss.reset_states()\n",
    "\n",
    "                        start = time.time()\n",
    "\n",
    "\n",
    "#                         self.checkpoint.save(self.checkpoint_prefix)\n",
    "            self.checkpoint.save(self.checkpoint_prefix)\n",
    "            print(\"save model\\n\")"
   ]
  },
  {
   "cell_type": "markdown",
   "metadata": {},
   "source": [
    "## 训练\n",
    "在预处理过的数据上训练神经网络。 "
   ]
  },
  {
   "cell_type": "code",
   "execution_count": 13,
   "metadata": {
    "scrolled": true
   },
   "outputs": [
    {
     "name": "stdout",
     "output_type": "stream",
     "text": [
      "Model: \"sequential\"\n",
      "_________________________________________________________________\n",
      "Layer (type)                 Output Shape              Param #   \n",
      "=================================================================\n",
      "embedding (Embedding)        (32, None, 256)           932352    \n",
      "_________________________________________________________________\n",
      "lstm (LSTM)                  (32, None, 1000)          5028000   \n",
      "_________________________________________________________________\n",
      "dense (Dense)                (32, None, 3642)          3645642   \n",
      "=================================================================\n",
      "Total params: 9,605,994\n",
      "Trainable params: 9,605,994\n",
      "Non-trainable params: 0\n",
      "_________________________________________________________________\n",
      "batchCnt :  161\n",
      "Step #50\tLoss: 6.623273 (1.4579346911925 steps/sec)\n",
      "Step #100\tLoss: 6.618058 (1.760274296160389 steps/sec)\n",
      "Step #150\tLoss: 6.762348 (1.7745142395123255 steps/sec)\n",
      "save model\n",
      "\n",
      "Step #200\tLoss: 6.397208 (2.2850820118818485 steps/sec)\n",
      "Step #250\tLoss: 6.251562 (1.8047937182515517 steps/sec)\n",
      "Step #300\tLoss: 6.305763 (1.789508945441332 steps/sec)\n",
      "save model\n",
      "\n",
      "Step #350\tLoss: 5.919520 (3.1871242340191173 steps/sec)\n",
      "Step #400\tLoss: 6.067682 (1.8248242920336322 steps/sec)\n",
      "Step #450\tLoss: 5.901038 (1.7958732812674587 steps/sec)\n",
      "save model\n",
      "\n",
      "Step #500\tLoss: 5.770956 (5.331139954066546 steps/sec)\n",
      "Step #550\tLoss: 5.876189 (1.8298388242609862 steps/sec)\n",
      "Step #600\tLoss: 5.705443 (1.8219332897392602 steps/sec)\n",
      "save model\n",
      "\n",
      "Step #650\tLoss: 5.654297 (14.827919861502984 steps/sec)\n",
      "Step #700\tLoss: 5.469127 (1.8231442647208338 steps/sec)\n",
      "Step #750\tLoss: 5.337306 (1.8267434745734867 steps/sec)\n",
      "Step #800\tLoss: 5.375128 (1.828701045539195 steps/sec)\n",
      "save model\n",
      "\n",
      "Step #850\tLoss: 5.322458 (2.0248018022500203 steps/sec)\n",
      "Step #900\tLoss: 5.215079 (1.8239667744480133 steps/sec)\n",
      "Step #950\tLoss: 5.123084 (1.834375892411234 steps/sec)\n",
      "save model\n",
      "\n",
      "Step #1000\tLoss: 4.967107 (2.672128916071813 steps/sec)\n",
      "Step #1050\tLoss: 5.040834 (1.8317109614828275 steps/sec)\n",
      "Step #1100\tLoss: 4.708903 (1.8279894869196698 steps/sec)\n",
      "save model\n",
      "\n",
      "Step #1150\tLoss: 4.816755 (3.961418317687369 steps/sec)\n",
      "Step #1200\tLoss: 4.850560 (1.8087834436809638 steps/sec)\n",
      "Step #1250\tLoss: 4.394843 (1.7945373996503156 steps/sec)\n",
      "save model\n",
      "\n",
      "Step #1300\tLoss: 4.411910 (7.777964661225948 steps/sec)\n",
      "Step #1350\tLoss: 4.418208 (1.866035664288443 steps/sec)\n",
      "Step #1400\tLoss: 4.252839 (1.861408189478152 steps/sec)\n",
      "save model\n",
      "\n",
      "Step #1450\tLoss: 4.454759 (87.26839348742836 steps/sec)\n",
      "Step #1500\tLoss: 4.111177 (1.8460105203706052 steps/sec)\n",
      "Step #1550\tLoss: 3.907109 (1.8589639031597338 steps/sec)\n",
      "Step #1600\tLoss: 3.764209 (1.8525394819146817 steps/sec)\n",
      "save model\n",
      "\n",
      "Step #1650\tLoss: 3.714081 (2.272515400431482 steps/sec)\n",
      "Step #1700\tLoss: 3.651021 (1.850448405181734 steps/sec)\n",
      "Step #1750\tLoss: 3.593717 (1.8405461966035317 steps/sec)\n",
      "save model\n",
      "\n",
      "Step #1800\tLoss: 3.454843 (3.2069491401274033 steps/sec)\n",
      "Step #1850\tLoss: 3.560735 (1.8634316946331024 steps/sec)\n",
      "Step #1900\tLoss: 3.353009 (1.837472615800618 steps/sec)\n",
      "save model\n",
      "\n",
      "Step #1950\tLoss: 3.191583 (5.070714659021573 steps/sec)\n",
      "Step #2000\tLoss: 2.994326 (1.8740099441504197 steps/sec)\n",
      "Step #2050\tLoss: 2.967816 (1.8570179454006341 steps/sec)\n",
      "save model\n",
      "\n",
      "Step #2100\tLoss: 2.912447 (13.099227482673358 steps/sec)\n",
      "Step #2150\tLoss: 2.750483 (1.8570292423627217 steps/sec)\n",
      "Step #2200\tLoss: 2.703347 (1.8404420131698522 steps/sec)\n",
      "Step #2250\tLoss: 2.621744 (1.8543642597858263 steps/sec)\n",
      "save model\n",
      "\n",
      "Step #2300\tLoss: 2.384810 (2.0068145794569348 steps/sec)\n",
      "Step #2350\tLoss: 2.460223 (1.8455290612798843 steps/sec)\n",
      "Step #2400\tLoss: 2.220877 (1.7498722047556878 steps/sec)\n",
      "save model\n",
      "\n",
      "Step #2450\tLoss: 2.209287 (2.6324727261009984 steps/sec)\n",
      "Step #2500\tLoss: 2.146820 (1.8257173125613044 steps/sec)\n",
      "Step #2550\tLoss: 2.009501 (1.805184617147491 steps/sec)\n",
      "save model\n",
      "\n",
      "Step #2600\tLoss: 2.056402 (3.775906589869417 steps/sec)\n",
      "Step #2650\tLoss: 2.150129 (1.8379271038044795 steps/sec)\n",
      "Step #2700\tLoss: 2.036724 (1.8441704010242608 steps/sec)\n",
      "save model\n",
      "\n",
      "Step #2750\tLoss: 1.758791 (7.163476691200052 steps/sec)\n",
      "Step #2800\tLoss: 1.509837 (1.8478383593977727 steps/sec)\n",
      "Step #2850\tLoss: 1.598945 (1.8574515217262146 steps/sec)\n",
      "save model\n",
      "\n",
      "Step #2900\tLoss: 1.455016 (44.37710654304331 steps/sec)\n",
      "Step #2950\tLoss: 1.495775 (1.873933534777757 steps/sec)\n",
      "Step #3000\tLoss: 1.536465 (1.8449590820022321 steps/sec)\n",
      "Step #3050\tLoss: 1.152052 (1.8595503360372683 steps/sec)\n",
      "save model\n",
      "\n",
      "Step #3100\tLoss: 1.178612 (2.2205148097444205 steps/sec)\n",
      "Step #3150\tLoss: 1.093991 (1.8545519570255493 steps/sec)\n",
      "Step #3200\tLoss: 1.204225 (1.8409946268711745 steps/sec)\n",
      "save model\n",
      "\n"
     ]
    }
   ],
   "source": [
    "net = poetry_network()\n",
    "net.training(20)"
   ]
  },
  {
   "cell_type": "markdown",
   "metadata": {},
   "source": [
    "## 显示训练Loss"
   ]
  },
  {
   "cell_type": "code",
   "execution_count": 80,
   "metadata": {},
   "outputs": [
    {
     "data": {
      "image/png": "[encoded data removed]",
      "text/plain": [
       "<Figure size 432x288 with 1 Axes>"
      ]
     },
     "metadata": {
      "image/png": {
       "height": 250,
       "width": 364
      },
      "needs_background": "light"
     },
     "output_type": "display_data"
    }
   ],
   "source": [
    "%matplotlib inline\n",
    "%config InlineBackend.figure_format = 'retina'\n",
    "# import seaborn as sns\n",
    "import matplotlib.pyplot as plt\n",
    "\n",
    "plt.plot(losses['train'], label='Training loss')\n",
    "plt.legend()\n",
    "_ = plt.ylim()"
   ]
  },
  {
   "cell_type": "markdown",
   "metadata": {},
   "source": [
    "## 加载保存的模型，准备预测"
   ]
  },
  {
   "cell_type": "code",
   "execution_count": 14,
   "metadata": {},
   "outputs": [
    {
     "name": "stdout",
     "output_type": "stream",
     "text": [
      "Model: \"sequential_1\"\n",
      "_________________________________________________________________\n",
      "Layer (type)                 Output Shape              Param #   \n",
      "=================================================================\n",
      "embedding_1 (Embedding)      (1, None, 256)            932352    \n",
      "_________________________________________________________________\n",
      "lstm_1 (LSTM)                (1, None, 1000)           5028000   \n",
      "_________________________________________________________________\n",
      "dense_1 (Dense)              (1, None, 3642)           3645642   \n",
      "=================================================================\n",
      "Total params: 9,605,994\n",
      "Trainable params: 9,605,994\n",
      "Non-trainable params: 0\n",
      "_________________________________________________________________\n"
     ]
    }
   ],
   "source": [
    "restore_net = poetry_network(1)\n",
    "restore_net.model.build(tf.TensorShape([1, None]))"
   ]
  },
  {
   "cell_type": "markdown",
   "metadata": {},
   "source": [
    "## 生成古诗\n",
    "开始生成古诗了。\n",
    " - `prime_word` 是开始的头一个字。\n",
    " - `top_n` 从前N个候选汉字中随机选择\n",
    " - `rule` 默认是7言绝句\n",
    " - `sentence_lines` 生成几句古诗，默认是4句（，和。都算一句）\n",
    " - `hidden_head` 藏头诗的前几个字"
   ]
  },
  {
   "cell_type": "code",
   "execution_count": 15,
   "metadata": {},
   "outputs": [],
   "source": [
    "def gen_poetry(prime_word='白',\n",
    "               top_n=5,\n",
    "               rule=7,\n",
    "               sentence_lines=4,\n",
    "               hidden_head=None):\n",
    "    gen_length = sentence_lines * (rule + 1) - len(prime_word)\n",
    "    gen_sentences = [prime_word] if hidden_head == None else [hidden_head[0]]\n",
    "    temperature = 1.0\n",
    "\n",
    "    dyn_input = [vocab_to_int[s] for s in prime_word]\n",
    "    dyn_input = tf.expand_dims(dyn_input, 0)\n",
    "\n",
    "    dyn_seq_length = len(dyn_input[0])\n",
    "\n",
    "    restore_net.model.reset_states()\n",
    "    index = len(prime_word) if hidden_head == None else 1\n",
    "    for n in range(gen_length):\n",
    "\n",
    "        index += 1\n",
    "        predictions = restore_net.model(np.array(dyn_input))\n",
    "\n",
    "        predictions = tf.squeeze(predictions, 0)\n",
    "\n",
    "        if index != 0 and (index % (rule + 1)) == 0:\n",
    "            if ((index / (rule + 1)) + 1) % 2 == 0:\n",
    "                predicted_id = vocab_to_int['，']\n",
    "            else:\n",
    "                predicted_id = vocab_to_int['。']\n",
    "        else:\n",
    "            if hidden_head != None and (index - 1) % (rule + 1) == 0 and (\n",
    "                    index - 1) // (rule + 1) < len(hidden_head):\n",
    "                predicted_id = vocab_to_int[hidden_head[(index - 1) //\n",
    "                                                        (rule + 1)]]\n",
    "            else:\n",
    "                while True:\n",
    "                    predictions = predictions / temperature\n",
    "                    predicted_id = tf.random.categorical(\n",
    "                        predictions, num_samples=1)[-1, 0].numpy()\n",
    "\n",
    "                    # p = np.squeeze(predictions[-1].numpy())\n",
    "                    # p[np.argsort(p)[:-top_n]] = 0\n",
    "                    # p = p / np.sum(p)\n",
    "                    # c = np.random.choice(vocab_size, 1, p=p)[0]\n",
    "                    # predicted_id=c\n",
    "                    if (predicted_id != vocab_to_int['，']\n",
    "                            and predicted_id != vocab_to_int['。']):\n",
    "                        break\n",
    "    # using a multinomial distribution to predict the word returned by the model\n",
    "    #         predictions = predictions / temperature\n",
    "    #         predicted_id = tf.multinomial(predictions, num_samples=1)[-1,0].numpy()\n",
    "\n",
    "        dyn_input = tf.expand_dims([predicted_id], 0)\n",
    "        gen_sentences.append(int_to_vocab[predicted_id])\n",
    "\n",
    "    poetry_script = ' '.join(gen_sentences)\n",
    "    poetry_script = poetry_script.replace('\\n ', '\\n')\n",
    "    poetry_script = poetry_script.replace('( ', '(')\n",
    "\n",
    "    return poetry_script"
   ]
  },
  {
   "cell_type": "markdown",
   "metadata": {},
   "source": [
    "## 给定开头"
   ]
  },
  {
   "cell_type": "code",
   "execution_count": 14,
   "metadata": {},
   "outputs": [
    {
     "data": {
      "text/plain": [
       "'白日依山尽 ， 照 岸 终 年 矜 。 目 尽 飞 猿 笑 ， 愁 长 断 独 声 。'"
      ]
     },
     "execution_count": 14,
     "metadata": {},
     "output_type": "execute_result"
    }
   ],
   "source": [
    "gen_poetry(prime_word='白日依山尽', top_n=10, rule=5, sentence_lines=4)"
   ]
  },
  {
   "cell_type": "markdown",
   "metadata": {},
   "source": [
    "## 7言绝句"
   ]
  },
  {
   "cell_type": "code",
   "execution_count": 168,
   "metadata": {},
   "outputs": [
    {
     "data": {
      "text/plain": [
       "'春 至 处 马 上 长 杨 ， 谁 家 窈 窕 九 重 闺 。 秦 国 陇 台 汉 边 风 ， 日 照 胡 沙 尘 花 中 。'"
      ]
     },
     "execution_count": 168,
     "metadata": {},
     "output_type": "execute_result"
    }
   ],
   "source": [
    "gen_poetry(prime_word='春', top_n=10, rule=7, sentence_lines=4)"
   ]
  },
  {
   "cell_type": "markdown",
   "metadata": {},
   "source": [
    "## 5言"
   ]
  },
  {
   "cell_type": "code",
   "execution_count": 198,
   "metadata": {},
   "outputs": [
    {
     "data": {
      "text/plain": [
       "'月 来 长 河 闭 ， 苔 疏 连 叶 满 。 归 来 入 汉 使 ， 居 带 天 门 台 。'"
      ]
     },
     "execution_count": 198,
     "metadata": {},
     "output_type": "execute_result"
    }
   ],
   "source": [
    "gen_poetry(prime_word='月', top_n=10, rule=5, sentence_lines=4)"
   ]
  },
  {
   "cell_type": "markdown",
   "metadata": {},
   "source": [
    "# 结论\n",
    "\n",
    "使用原始的数据集训练太慢了，我只使用了前1000行的古诗训练，训练次数也不太多，可以继续训练再试试。"
   ]
  }
 ],
 "metadata": {
  "kernelspec": {
   "display_name": "Python 3",
   "language": "python",
   "name": "python3"
  },
  "language_info": {
   "codemirror_mode": {
    "name": "ipython",
    "version": 3
   },
   "file_extension": ".py",
   "mimetype": "text/x-python",
   "name": "python",
   "nbconvert_exporter": "python",
   "pygments_lexer": "ipython3",
   "version": "3.7.3"
  }
 },
 "nbformat": 4,
 "nbformat_minor": 2
}
