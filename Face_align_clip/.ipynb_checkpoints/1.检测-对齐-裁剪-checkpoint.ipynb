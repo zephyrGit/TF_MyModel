{
 "cells": [
  {
   "cell_type": "markdown",
   "metadata": {},
   "source": [
    "### 1. 加载库"
   ]
  },
  {
   "cell_type": "code",
   "execution_count": 1,
   "metadata": {
    "collapsed": true
   },
   "outputs": [],
   "source": [
    "# 屏蔽警告\n",
    "import warnings\n",
    "warnings.filterwarnings('ignore')\n",
    "\n",
    "# 加载Utilities\n",
    "from scipy import misc\n",
    "import sys\n",
    "import os\n",
    "import random\n",
    "from tqdm import tqdm\n",
    "\n",
    "import numpy as np\n",
    "\n",
    "# 图像处理库\n",
    "import cv2\n",
    "\n",
    "# tensorflow\n",
    "import tensorflow as tf\n",
    "\n",
    "# 图像扩展库\n",
    "import facenet\n",
    "import detect_face"
   ]
  },
  {
   "cell_type": "code",
   "execution_count": 2,
   "metadata": {
    "collapsed": true
   },
   "outputs": [],
   "source": [
    "# 根路径\n",
    "ROOT_DIR = os.getcwd()\n",
    "\n",
    "# 验证资料目录\n",
    "DATA_PATH = os.path.join(ROOT_DIR, \"data\")\n",
    "\n",
    "# 模型目录\n",
    "MODEL_PATH = os.path.join(ROOT_DIR, \"model\")\n",
    "\n",
    "# MTCNN的模型\n",
    "MTCNN_MODEL_PATH = os.path.join(MODEL_PATH, \"mtcnn\")\n",
    "\n",
    "# 验证用的图像资料\n",
    "IMG_IN_PATH = os.path.join(DATA_PATH, \"lfw\")\n",
    "\n",
    "# 验证用的图像资料路径\n",
    "IMG_OUT_PATH = os.path.join(DATA_PATH, \"lfw_crops\")"
   ]
  },
  {
   "cell_type": "code",
   "execution_count": 3,
   "metadata": {
    "collapsed": true
   },
   "outputs": [],
   "source": [
    "# 检查存放裁剪结果的目录\n",
    "if not os.path.exists(IMG_OUT_PATH):\n",
    "    os.makedirs(IMG_OUT_PATH)\n",
    "\n",
    "# 脸类别(ImageClass)的列表与图像路径\n",
    "dataset = facenet.get_dataset(IMG_IN_PATH)"
   ]
  },
  {
   "cell_type": "code",
   "execution_count": 4,
   "metadata": {},
   "outputs": [
    {
     "name": "stdout",
     "output_type": "stream",
     "text": [
      "Total face identities:  5749\n"
     ]
    }
   ],
   "source": [
    "# 打印看有多少人脸的身份\n",
    "print(\"Total face identities: \", len(dataset))"
   ]
  },
  {
   "cell_type": "code",
   "execution_count": 5,
   "metadata": {},
   "outputs": [
    {
     "name": "stdout",
     "output_type": "stream",
     "text": [
      "Creating networks and loading parameters\n"
     ]
    }
   ],
   "source": [
    "# 构建MTCNN模型来检测人脸位置\n",
    "print('Creating networks and loading parameters')\n",
    "with tf.Graph().as_default():\n",
    "    gpu_options = tf.GPUOptions(per_process_gpu_memory_fraction=0.5)\n",
    "    sess = tf.Session(config=tf.ConfigProto(gpu_options=gpu_options,\n",
    "                                            log_device_placement=False))\n",
    "    with sess.as_default():\n",
    "        pnet, rnet, onet = detect_face.create_mtcnn(sess, MTCNN_MODEL_PATH)"
   ]
  },
  {
   "cell_type": "markdown",
   "metadata": {},
   "source": [
    "#### 设定人脸检测模型相关参数"
   ]
  },
  {
   "cell_type": "code",
   "execution_count": 6,
   "metadata": {
    "collapsed": true
   },
   "outputs": [],
   "source": [
    "minsize = 20  # 最小的脸部的大小\n",
    "threshold = [0.6, 0.7, 0.7]  # 三个网络(P-Net, R-Net, O-Net)的阀值\n",
    "factor = 0.709  # scale factor\n",
    "\n",
    "margin = 44  # 裁剪人脸的边框margin\n",
    "image_size = 182  # 160 + 22"
   ]
  },
  {
   "cell_type": "code",
   "execution_count": 7,
   "metadata": {
    "collapsed": true
   },
   "outputs": [],
   "source": [
    "# 添加key值到图像，以允许使用多个进程进行人脸对齐\n",
    "random_key = np.random.randint(0, high=99999)\n",
    "bounding_boxes_filename = os.path.join(IMG_OUT_PATH,\n",
    "                                       'bounding_boxes_%05d.txt' % random_key)"
   ]
  },
  {
   "cell_type": "code",
   "execution_count": 8,
   "metadata": {},
   "outputs": [
    {
     "name": "stderr",
     "output_type": "stream",
     "text": [
      "100%|██████████████████████████████████████| 5749/5749 [39:27<00:00,  2.43it/s]\n"
     ]
    },
    {
     "name": "stdout",
     "output_type": "stream",
     "text": [
      "Total number of images: 13233\n",
      "Number of successfully aligned images: 13233\n"
     ]
    }
   ],
   "source": [
    "# 人脸图像处理\n",
    "# 使用Tensorflow进行MTCNN\n",
    "with open(bounding_boxes_filename, \"w\") as text_file:\n",
    "    nrof_images_total = 0  # 处理过的图像总数\n",
    "    nrof_successfully_aligned = 0  # 人脸对齐align的总数\n",
    "\n",
    "    # 迭代人脸身份(ImageClass)\n",
    "    for cls in tqdm(dataset):\n",
    "        output_class_dir = os.path.join(IMG_OUT_PATH, cls.name)  # 裁剪后的图像目录\n",
    "        if not os.path.exists(output_class_dir):\n",
    "            os.makedirs(output_class_dir)\n",
    "\n",
    "        # 迭代每一个人脸身份的图像路径 (ImageClass.image_paths)\n",
    "        for image_path in cls.image_paths:\n",
    "            nrof_images_total += 1\n",
    "            filename = os.path.splitext(\n",
    "                os.path.split(image_path)[1])[0]  # 获得图像名\n",
    "            output_filename = os.path.join(output_class_dir,\n",
    "                                           filename + '.png')  # 设定输出的图像名\n",
    "            # print(image_path)\n",
    "\n",
    "            if not os.path.exists(output_filename):\n",
    "                try:\n",
    "                    img = misc.imread(image_path)  # 读取图像\n",
    "                    # print('read data dimension: ', img.ndim)\n",
    "                except (IOError, ValueError, IndexError) as e:\n",
    "                    errorMessage = '{}: {}'.format(image_path, e)\n",
    "                    # print(errorMessage)\n",
    "                else:\n",
    "                    # 将图像numpy array (height, widith, color_channels)\n",
    "                    if img.ndim < 2:\n",
    "                        print('Unable to align \"%s\"' % image_path)\n",
    "                        text_file.write('%s\\n' % (output_filename))\n",
    "                        continue\n",
    "                    if img.ndim == 2:\n",
    "                        img = facenet.to_rgb(img)\n",
    "                        print('to_rgb data dimension: ', img.ndim)\n",
    "                    img = img[:, :, 0:3]\n",
    "                    # print('after data dimension: ', img.ndim)\n",
    "\n",
    "                    # 使用MTCNN來检测人脸在图像中的位置\n",
    "                    bounding_boxes, _ = detect_face.detect_face(\n",
    "                        img, minsize, pnet, rnet, onet, threshold, factor)\n",
    "                    nrof_faces = bounding_boxes.shape[0]  # 检测到人脸的总数\n",
    "                    # print('detected_face: %d' % nrof_faces)\n",
    "                    if nrof_faces > 0:\n",
    "                        # 从中找到置中的人脸\n",
    "                        det = bounding_boxes[:, 0:4]\n",
    "                        img_size = np.asarray(img.shape)[0:2]\n",
    "                        if nrof_faces > 1:\n",
    "                            bounding_box_size = (det[:, 2] - det[:, 0]) * (\n",
    "                                det[:, 3] - det[:, 1])\n",
    "                            img_center = img_size / 2\n",
    "                            offsets = np.vstack([\n",
    "                                (det[:, 0] + det[:, 2]) / 2 - img_center[1],\n",
    "                                (det[:, 1] + det[:, 3]) / 2 - img_center[0]\n",
    "                            ])\n",
    "                            offset_dist_squared = np.sum(\n",
    "                                np.power(offsets, 2.0), 0)\n",
    "                            index = np.argmax(\n",
    "                                bounding_box_size - offset_dist_squared *\n",
    "                                2.0)  # some extra weight on the centering\n",
    "                            det = det[index, :]\n",
    "                        det = np.squeeze(det)\n",
    "                        bb_temp = np.zeros(4, dtype=np.int32)\n",
    "                        # 获取人脸左上角与右下角的坐标\n",
    "                        bb_temp[0] = det[0]\n",
    "                        bb_temp[1] = det[1]\n",
    "                        bb_temp[2] = det[2]\n",
    "                        bb_temp[3] = det[3]\n",
    "\n",
    "                        # 进行裁剪及大小转换\n",
    "                        cropped_temp = img[bb_temp[1]:bb_temp[3], bb_temp[0]:\n",
    "                                           bb_temp[2], :]\n",
    "                        scaled_temp = misc.imresize(cropped_temp,\n",
    "                                                    (image_size, image_size),\n",
    "                                                    interp='bilinear')\n",
    "\n",
    "                        nrof_successfully_aligned += 1\n",
    "                        misc.imsave(output_filename, scaled_temp)  # 储存处理后的图像\n",
    "                        text_file.write('%s %d %d %d %d\\n' %\n",
    "                                        (output_filename, bb_temp[0],\n",
    "                                         bb_temp[1], bb_temp[2], bb_temp[3]))\n",
    "                    else:\n",
    "                        # print('Unable to align \"%s\"' % image_path)\n",
    "                        text_file.write('%s\\n' % (output_filename))\n",
    "\n",
    "print('Total number of images: %d' % nrof_images_total)\n",
    "print('Number of successfully aligned images: %d' % nrof_successfully_aligned)"
   ]
  },
  {
   "cell_type": "code",
   "execution_count": 9,
   "metadata": {
    "collapsed": true
   },
   "outputs": [],
   "source": [
    "# 检查人脸图像处理结果\n",
    "import matplotlib.pyplot as plt\n",
    "\n",
    "face_identity = 'Bill_Clinton'\n",
    "origin_face_image = os.path.join(IMG_IN_PATH, face_identity,\n",
    "                                 'Bill_Clinton_0009.jpg')\n",
    "aligned_face_image = os.path.join(IMG_OUT_PATH, face_identity,\n",
    "                                  'Bill_Clinton_0009.png')"
   ]
  },
  {
   "cell_type": "code",
   "execution_count": null,
   "metadata": {},
   "outputs": [],
   "source": [
    "# 使用OpenCV读入测试图像\n",
    "# 注意: OpenCV读取的图像产生的Numpy Ndaary格式是BGR (B:Blue, G: Green, R: Red)\n",
    "#      跟使用PIL或skimage的格式RGB (R: Red, G: Green, B:Blue)在色阶(channel)的顺序上有所不同\n",
    "bgr_image = cv2.imread(origin_face_image)\n",
    "rgb_image = bgr_image[:, :, ::-1]  # 把BGR转换成RGB\n",
    "\n",
    "# 检测人脸\n",
    "bounding_boxes, _ = detect_face.detect_face(rgb_image, minsize, pnet, rnet,\n",
    "                                            onet, threshold, factor)\n",
    "\n",
    "# 复制图像\n",
    "draw = bgr_image.copy()\n",
    "\n",
    "# 检测到的脸部总数\n",
    "faces_detected = len(bounding_boxes)\n",
    "\n",
    "print('Total faces detected ：{}'.format(faces_detected))\n",
    "\n",
    "# 每一个 bounding_box包括了（x1,y1,x2,y2,confidence score)：\n",
    "# 　　左上角坐标 (x1,y1)\n",
    "#     右下角坐标 (x2,y2)\n",
    "#     信心分数 confidence score\n",
    "\n",
    "# 迭代每一个检测出的边界框\n",
    "for face_position in bounding_boxes:\n",
    "    # 把资料float转成int\n",
    "    face_position = face_position.astype(int)\n",
    "\n",
    "    # 取出左上角坐标 (x1,y1)于右下角坐标 (x2,y2)\n",
    "    # 由于检测出來的脸在图像的图边导致坐标为负值\n",
    "    # 因此進行的負值的偵測與修正\n",
    "    x1 = face_position[0] if face_position[0] > 0 else 0\n",
    "    y1 = face_position[1] if face_position[1] > 0 else 0\n",
    "    x2 = face_position[2] if face_position[2] > 0 else 0\n",
    "    y2 = face_position[3] if face_position[3] > 0 else 0\n",
    "\n",
    "    # 在原图上画上边界框\n",
    "    cv2.rectangle(draw, (x1, y1), (x2, y2), (0, 255, 0), 2)\n",
    "\n",
    "# 设定显示的大小\n",
    "plt.figure(figsize=(10, 5))\n",
    "\n",
    "# 展示检测出的结果\n",
    "plt.imshow(draw[:, :, ::-1])  # 转换成RGB用matplotlib展示\n",
    "plt.show()"
   ]
  },
  {
   "cell_type": "code",
   "execution_count": null,
   "metadata": {},
   "outputs": [],
   "source": [
    "bgr_image = cv2.imread(aligned_face_image)\n",
    "rgb_image = bgr_image[:, :, ::-1]  # 把BGR转换成RGB\n",
    "\n",
    "# 设定显示的大小\n",
    "plt.figure(figsize=(8, 3))\n",
    "\n",
    "# 显示检测结果\n",
    "plt.imshow(rgb_image)  # 转换成RGB用matplotlib展示\n",
    "plt.show()"
   ]
  }
 ],
 "metadata": {
  "kernelspec": {
   "display_name": "Python 3",
   "language": "python",
   "name": "python3"
  },
  "language_info": {
   "codemirror_mode": {
    "name": "ipython",
    "version": 3
   },
   "file_extension": ".py",
   "mimetype": "text/x-python",
   "name": "python",
   "nbconvert_exporter": "python",
   "pygments_lexer": "ipython3",
   "version": "3.7.3"
  }
 },
 "nbformat": 4,
 "nbformat_minor": 2
}
