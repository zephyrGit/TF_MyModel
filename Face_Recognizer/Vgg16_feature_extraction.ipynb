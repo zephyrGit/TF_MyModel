{
 "cells": [
  {
   "cell_type": "code",
   "execution_count": 1,
   "metadata": {
    "scrolled": true
   },
   "outputs": [
    {
     "name": "stderr",
     "output_type": "stream",
     "text": [
      "E:\\Anaconda3\\envs\\dl\\lib\\site-packages\\numpy\\core\\__init__.py:29: UserWarning: loaded more than 1 DLL from .libs:\n",
      "E:\\Anaconda3\\envs\\dl\\lib\\site-packages\\numpy\\.libs\\libopenblas.IPBC74C7KURV7CB2PKT5Z5FNR3SIBV4J.gfortran-win_amd64.dll\n",
      "E:\\Anaconda3\\envs\\dl\\lib\\site-packages\\numpy\\.libs\\libopenblas.TXA6YQSD3GCQQC22GEQ54J2UDCXDXHWN.gfortran-win_amd64.dll\n",
      "  stacklevel=1)\n"
     ]
    },
    {
     "name": "stdout",
     "output_type": "stream",
     "text": [
      "WARNING:tensorflow:From D:\\Program Files\\Pyproject\\PS\\Face_Recognizer-master\\Face_Recognizer-upgradedToTF2.0\\align\\detect_face.py:213: div (from tensorflow.python.ops.math_ops) is deprecated and will be removed in a future version.\n",
      "Instructions for updating:\n",
      "Deprecated in favor of operator or tf.math.divide.\n"
     ]
    }
   ],
   "source": [
    "# 引入vgg16网络\n",
    "from tensorflow_vgg import vgg16\n",
    "from tensorflow_vgg import utils\n",
    "\n",
    "# 引入mtcnn_findFace\n",
    "from face_detect_main import mtcnn_findFace\n",
    "import tensorflow as tf\n",
    "from scipy import misc\n",
    "import os\n",
    "import cv2\n",
    "import warnings\n",
    "warnings.filterwarnings('ignore')"
   ]
  },
  {
   "cell_type": "code",
   "execution_count": 4,
   "metadata": {
    "scrolled": true
   },
   "outputs": [
    {
     "name": "stdout",
     "output_type": "stream",
     "text": [
      "D:\\Program Files\\Pyproject\\PS\\Face_Recognizer-master\\Face_Recognizer-upgradedToTF2.0\\tensorflow_vgg\\vgg16.npy\n",
      "npy file loaded\n",
      "build model started\n",
      "build model finished: 4s\n"
     ]
    }
   ],
   "source": [
    "graph = tf.Graph()\n",
    "with graph.as_default():\n",
    "    # 构建vgg16网络并加载参数\n",
    "    vgg = vgg16.Vgg16()\n",
    "    input_ = tf.keras.layers.Input(\n",
    "        [224, 224,\n",
    "         3])  # tf.compat.v1.placeholder(tf.float32, [None, 224, 224, 3])\n",
    "    with tf.name_scope(\"content_vgg\"):\n",
    "        vgg.build(input_)\n",
    "\n",
    "\n",
    "def feature_extraction(imgs):\n",
    "    path = \"./timg.jpg\"\n",
    "    batch = []\n",
    "\n",
    "    if len(imgs) > 0:\n",
    "        if imgs.ndim > 3:\n",
    "            for i in range(imgs.shape[0]):\n",
    "                cv2.imwrite(\"./face_feature.png\", imgs[i])\n",
    "                # 调用开源代码实现的函数load_image加载人脸图像\n",
    "                img = utils.load_image(path)\n",
    "                batch.append(img)\n",
    "        else:\n",
    "\n",
    "            cv2.imwrite(\"./face_feature.png\", imgs)\n",
    "            img = utils.load_image(path)\n",
    "            batch.append(img.reshape((1, 224, 224, 3)))\n",
    "            batch = np.concatenate(batch)\n",
    "\n",
    "        with tf.compat.v1.Session(graph=graph) as sess:\n",
    "            feed_dict = {input_: batch}\n",
    "            # 前向传播获得vgg.fc7(就是第二个全连接层)的输出作为人脸特征\n",
    "            feature = sess.run(vgg.fc7, feed_dict=feed_dict)\n",
    "            if imgs.ndim == 3:\n",
    "                feature = np.reshape(feature, (1, 4096))\n",
    "        # 返回人脸特征\n",
    "        return feature"
   ]
  },
  {
   "cell_type": "code",
   "execution_count": 5,
   "metadata": {},
   "outputs": [],
   "source": [
    "if __name__ == '__main__':\n",
    "    image_path = \"./timg.jpg\"\n",
    "    img = misc.imread(os.path.expanduser(image_path), mode='RGB')\n",
    "    images, rects = mtcnn_findFace(img)\n",
    "    feature_extraction(images)"
   ]
  }
 ],
 "metadata": {
  "kernelspec": {
   "display_name": "dl",
   "language": "python",
   "name": "dl"
  },
  "language_info": {
   "codemirror_mode": {
    "name": "ipython",
    "version": 3
   },
   "file_extension": ".py",
   "mimetype": "text/x-python",
   "name": "python",
   "nbconvert_exporter": "python",
   "pygments_lexer": "ipython3",
   "version": "3.6.7"
  }
 },
 "nbformat": 4,
 "nbformat_minor": 2
}
